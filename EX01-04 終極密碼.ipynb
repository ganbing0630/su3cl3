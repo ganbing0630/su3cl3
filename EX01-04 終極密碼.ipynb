{
  "nbformat": 4,
  "nbformat_minor": 0,
  "metadata": {
    "colab": {
      "provenance": [],
      "authorship_tag": "ABX9TyOE0QRMw4oZ7XZlZ/E7yXSi",
      "include_colab_link": true
    },
    "kernelspec": {
      "name": "python3",
      "display_name": "Python 3"
    },
    "language_info": {
      "name": "python"
    }
  },
  "cells": [
    {
      "cell_type": "markdown",
      "metadata": {
        "id": "view-in-github",
        "colab_type": "text"
      },
      "source": [
        "<a href=\"https://colab.research.google.com/github/ganbing0630/su3cl3/blob/main/EX01-04%20%E7%B5%82%E6%A5%B5%E5%AF%86%E7%A2%BC.ipynb\" target=\"_parent\"><img src=\"https://colab.research.google.com/assets/colab-badge.svg\" alt=\"Open In Colab\"/></a>"
      ]
    },
    {
      "cell_type": "code",
      "execution_count": 6,
      "metadata": {
        "colab": {
          "base_uri": "https://localhost:8080/"
        },
        "id": "7vTIPlfJ7V2h",
        "outputId": "bc0c4e71-88db-45f3-91b0-bc9224679e0c"
      },
      "outputs": [
        {
          "output_type": "stream",
          "name": "stdout",
          "text": [
            "0 - 100\n",
            "guess;1\n",
            "1 - 100\n",
            "guess;5\n",
            "5 - 100\n",
            "guess;66\n",
            "5 - 66\n",
            "guess;33\n",
            "5 - 33\n",
            "guess;23\n",
            "5 - 23\n",
            "guess;13\n",
            "5 - 13\n",
            "guess;10\n",
            "5 - 10\n",
            "guess;11\n",
            "超過範圍\n",
            "5 - 10\n",
            "guess;5\n",
            "超過範圍\n",
            "5 - 10\n",
            "guess;4\n",
            "超過範圍\n",
            "5 - 10\n",
            "guess;6\n",
            "6 - 10\n",
            "guess;8\n",
            "猜中了\n"
          ]
        }
      ],
      "source": [
        "import random\n",
        "bomb=random.randint(1,99)\n",
        "\n",
        "lf=0\n",
        "rt=100\n",
        "\n",
        "while True:\n",
        "  print (lf, '-' , rt)\n",
        "  gu=int (input('guess;'))\n",
        "  if gu <=lf or gu >= rt:\n",
        "    print ('超過範圍')\n",
        "  elif gu<bomb:\n",
        "      lf=gu\n",
        "  elif gu> bomb:\n",
        "        rt=gu\n",
        "  else:\n",
        "          print ('猜中了')\n",
        "          break"
      ]
    }
  ]
}
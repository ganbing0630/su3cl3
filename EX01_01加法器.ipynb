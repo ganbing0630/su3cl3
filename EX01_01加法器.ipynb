{
  "nbformat": 4,
  "nbformat_minor": 0,
  "metadata": {
    "colab": {
      "provenance": [],
      "authorship_tag": "ABX9TyPN42Zt0XkRb68/R8Gi70rR",
      "include_colab_link": true
    },
    "kernelspec": {
      "name": "python3",
      "display_name": "Python 3"
    },
    "language_info": {
      "name": "python"
    }
  },
  "cells": [
    {
      "cell_type": "markdown",
      "metadata": {
        "id": "view-in-github",
        "colab_type": "text"
      },
      "source": [
        "<a href=\"https://colab.research.google.com/github/ganbing0630/su3cl3/blob/main/EX01_01%E5%8A%A0%E6%B3%95%E5%99%A8.ipynb\" target=\"_parent\"><img src=\"https://colab.research.google.com/assets/colab-badge.svg\" alt=\"Open In Colab\"/></a>"
      ]
    },
    {
      "cell_type": "code",
      "execution_count": 6,
      "metadata": {
        "colab": {
          "base_uri": "https://localhost:8080/"
        },
        "id": "tD0MMLXP3DVL",
        "outputId": "bea2231e-23e8-4d4f-b91f-9c150ac0a1e1"
      },
      "outputs": [
        {
          "output_type": "stream",
          "name": "stdout",
          "text": [
            "給我一個數字7\n",
            "再給我一個數字2\n",
            "哇,相加等於 9 呢\n"
          ]
        }
      ],
      "source": [
        "number1=int(input('給我一個數字'))\n",
        "number2=int(input('再給我一個數字'))\n",
        "print('哇,相加等於',number1+number2,'呢')"
      ]
    }
  ]
}
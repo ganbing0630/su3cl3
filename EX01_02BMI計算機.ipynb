{
  "nbformat": 4,
  "nbformat_minor": 0,
  "metadata": {
    "colab": {
      "provenance": [],
      "authorship_tag": "ABX9TyN9upf32nRlvd8cdM4rTaZk",
      "include_colab_link": true
    },
    "kernelspec": {
      "name": "python3",
      "display_name": "Python 3"
    },
    "language_info": {
      "name": "python"
    }
  },
  "cells": [
    {
      "cell_type": "markdown",
      "metadata": {
        "id": "view-in-github",
        "colab_type": "text"
      },
      "source": [
        "<a href=\"https://colab.research.google.com/github/ganbing0630/su3cl3/blob/main/EX01_02BMI%E8%A8%88%E7%AE%97%E6%A9%9F.ipynb\" target=\"_parent\"><img src=\"https://colab.research.google.com/assets/colab-badge.svg\" alt=\"Open In Colab\"/></a>"
      ]
    },
    {
      "cell_type": "code",
      "execution_count": 4,
      "metadata": {
        "colab": {
          "base_uri": "https://localhost:8080/"
        },
        "id": "ZiGDvJUkGSBl",
        "outputId": "ebcaabd7-dbc1-4881-e600-fd1672b3bbea"
      },
      "outputs": [
        {
          "output_type": "stream",
          "name": "stdout",
          "text": [
            "輸入身高(cm):176\n",
            "輸入體重(kg):60\n",
            "你的BMI是 19.4\n"
          ]
        }
      ],
      "source": [
        "ht=float(input('輸入身高(cm):'))\n",
        "wt=float(input('輸入體重(kg):'))\n",
        "print('你的BMI是',round( wt/(ht/100)**2 , 1 ))"
      ]
    }
  ]
}
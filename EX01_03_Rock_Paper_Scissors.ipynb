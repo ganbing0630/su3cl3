{
  "nbformat": 4,
  "nbformat_minor": 0,
  "metadata": {
    "colab": {
      "provenance": [],
      "authorship_tag": "ABX9TyO4fV+Uee6kw7jeJccv5vJA",
      "include_colab_link": true
    },
    "kernelspec": {
      "name": "python3",
      "display_name": "Python 3"
    },
    "language_info": {
      "name": "python"
    }
  },
  "cells": [
    {
      "cell_type": "markdown",
      "metadata": {
        "id": "view-in-github",
        "colab_type": "text"
      },
      "source": [
        "<a href=\"https://colab.research.google.com/github/ganbing0630/su3cl3/blob/main/EX01_03_Rock_Paper_Scissors.ipynb\" target=\"_parent\"><img src=\"https://colab.research.google.com/assets/colab-badge.svg\" alt=\"Open In Colab\"/></a>"
      ]
    },
    {
      "cell_type": "code",
      "source": [
        "import random\n",
        "ply=int(input('輸入0,2,5:'))\n",
        "cmp=random.choice([0,2,5])\n",
        "print ('computer=',cmp)\n",
        "if ply==cmp:\n",
        "  print('draw')\n",
        "elif (ply==0 and cmp==2) or (ply==2 and cmp==5) or (ply==5 and cmp==0):\n",
        "  print('you win')\n",
        "else\n",
        "  print('you lose')"
      ],
      "metadata": {
        "colab": {
          "base_uri": "https://localhost:8080/"
        },
        "id": "5Y3lSd63SJ05",
        "outputId": "9002dd7c-006e-4fe9-c67f-b5e59015c56f"
      },
      "execution_count": 7,
      "outputs": [
        {
          "output_type": "stream",
          "name": "stdout",
          "text": [
            "輸入0,2,5:2\n",
            "computer= 2\n",
            "draw\n"
          ]
        }
      ]
    }
  ]
}
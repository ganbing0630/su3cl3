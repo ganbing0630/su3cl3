{
  "nbformat": 4,
  "nbformat_minor": 0,
  "metadata": {
    "colab": {
      "provenance": [],
      "authorship_tag": "ABX9TyOC/7QPMfGIHb+YaK2+A6Ju",
      "include_colab_link": true
    },
    "kernelspec": {
      "name": "python3",
      "display_name": "Python 3"
    },
    "language_info": {
      "name": "python"
    }
  },
  "cells": [
    {
      "cell_type": "markdown",
      "metadata": {
        "id": "view-in-github",
        "colab_type": "text"
      },
      "source": [
        "<a href=\"https://colab.research.google.com/github/ganbing0630/su3cl3/blob/main/EX01_06%E7%B0%A1%E6%98%93%E8%B3%BC%E7%89%A9%E8%BB%8A.ipynb\" target=\"_parent\"><img src=\"https://colab.research.google.com/assets/colab-badge.svg\" alt=\"Open In Colab\"/></a>"
      ]
    },
    {
      "cell_type": "code",
      "execution_count": 10,
      "metadata": {
        "id": "K62h0kEC1iTR",
        "colab": {
          "base_uri": "https://localhost:8080/"
        },
        "outputId": "f9c0a047-a7c6-4ccd-9e79-6029c31ba002"
      },
      "outputs": [
        {
          "output_type": "stream",
          "name": "stdout",
          "text": [
            "商品欄:  apple/25 , banana/12 , cherry/30 \n",
            "購物車: \n",
            "功能列: 1.新增商品 2.移除商品 3.結帳 4.離開\n",
            "4\n",
            "離開\n"
          ]
        }
      ],
      "source": [
        "from IPython.display import clear_output\n",
        "products={ \"apple\":25 , \"banana\":12 , \"cherry\":30}\n",
        "shoppingcart= [ ]\n",
        "while True:\n",
        "  clear_output()\n",
        "  print( '商品欄:' ,','.join(f' {pd}/{pr} ' for pd,pr in products.items()))\n",
        "  print( '購物車:' , ' , '.join(shoppingcart) )\n",
        "  print( '功能列:' ,'1.新增商品 2.移除商品 3.結帳 4.離開')\n",
        "  act= input()\n",
        "  if act[0]=='1':\n",
        "    shoppingcart.append( act[1:] )\n",
        "  elif act[0]=='2':\n",
        "    shoppingcart.remove(act[1:])\n",
        "  elif act[0]=='3':\n",
        "    tt=0\n",
        "    for pd in shoppingcart:\n",
        "      tt+=products[pd]\n",
        "    print('結帳金額:',tt)\n",
        "    break\n",
        "  elif act[0]=='4':\n",
        "    print('離開')\n",
        "    break"
      ]
    }
  ]
}